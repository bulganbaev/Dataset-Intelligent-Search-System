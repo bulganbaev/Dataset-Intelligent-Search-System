{
 "cells": [
  {
   "cell_type": "code",
   "execution_count": null,
   "metadata": {},
   "outputs": [
    {
     "name": "stdout",
     "output_type": "stream",
     "text": [
      " * Serving Flask app \"__main__\" (lazy loading)\n",
      " * Environment: production\n",
      "   WARNING: Do not use the development server in a production environment.\n",
      "   Use a production WSGI server instead.\n",
      " * Debug mode: off\n"
     ]
    },
    {
     "name": "stderr",
     "output_type": "stream",
     "text": [
      " * Running on http://127.0.0.1:5000/ (Press CTRL+C to quit)\n",
      "127.0.0.1 - - [23/May/2019 03:01:29] \"\u001b[37mGET / HTTP/1.1\u001b[0m\" 200 -\n",
      "127.0.0.1 - - [23/May/2019 03:01:34] \"\u001b[37mPOST /search/dataset HTTP/1.1\u001b[0m\" 200 -\n",
      "127.0.0.1 - - [23/May/2019 03:01:44] \"\u001b[37mPOST /search/dataset HTTP/1.1\u001b[0m\" 200 -\n",
      "127.0.0.1 - - [23/May/2019 03:01:51] \"\u001b[37mPOST /search/dataset HTTP/1.1\u001b[0m\" 200 -\n",
      "127.0.0.1 - - [23/May/2019 03:02:01] \"\u001b[37mPOST /search/dataset HTTP/1.1\u001b[0m\" 200 -\n"
     ]
    }
   ],
   "source": [
    "from flask import Flask, render_template, request\n",
    "from elasticsearch import Elasticsearch\n",
    "\n",
    "app = Flask(__name__)\n",
    "es = Elasticsearch('127.0.0.1', port=9200)\n",
    "\n",
    "@app.route('/')\n",
    "def home():\n",
    "    return render_template('search.html')\n",
    "\n",
    "@app.route('/search/dataset', methods=['GET', 'POST'])\n",
    "def search_request():\n",
    "    search_term = request.form[\"input\"]\n",
    "    res = es.search(\n",
    "        index=\"search\", \n",
    "        size=20, \n",
    "        body={\n",
    "            \"query\": {\n",
    "                \"multi_match\" : {\n",
    "                    \"query\": search_term, \n",
    "                    \"fields\": [\n",
    "                        \"dataset_name\",\n",
    "                        \"url\",\n",
    "                        \"description\",\n",
    "                        \"preprocessing\",\n",
    "                        \"instances\",\n",
    "                        \"format\",\n",
    "                        \"defaul_task\"\n",
    "                        \n",
    "                    ] \n",
    "                }\n",
    "            }\n",
    "        }\n",
    "    )\n",
    "    return render_template('results.html', res=res )\n",
    "\n",
    "if __name__ == '__main__':\n",
    "    app.secret_key = 'mysecret'\n",
    "    app.run(host='127.0.0.1', port=5000)"
   ]
  },
  {
   "cell_type": "code",
   "execution_count": null,
   "metadata": {},
   "outputs": [],
   "source": []
  }
 ],
 "metadata": {
  "kernelspec": {
   "display_name": "Python 3",
   "language": "python",
   "name": "python3"
  },
  "language_info": {
   "codemirror_mode": {
    "name": "ipython",
    "version": 3
   },
   "file_extension": ".py",
   "mimetype": "text/x-python",
   "name": "python",
   "nbconvert_exporter": "python",
   "pygments_lexer": "ipython3",
   "version": "3.7.3"
  }
 },
 "nbformat": 4,
 "nbformat_minor": 2
}
